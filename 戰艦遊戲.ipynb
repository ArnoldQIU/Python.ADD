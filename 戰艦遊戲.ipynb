{
 "cells": [
  {
   "cell_type": "code",
   "execution_count": null,
   "metadata": {
    "collapsed": false
   },
   "outputs": [
    {
     "name": "stdout",
     "output_type": "stream",
     "text": [
      "O O O O O\n",
      "O O O O O\n",
      "O O O O O\n",
      "O O O O O\n",
      "O O O O O\n",
      "3\n",
      "4\n",
      "Guess Row:1\n",
      "Guess Col:1\n",
      "Guess Row:2\n",
      "Guess Col:2\n",
      "You missed my battleship!\n",
      "Guess Row:4\n",
      "Guess Col:4\n",
      "You missed my battleship!\n"
     ]
    }
   ],
   "source": [
    "from random import randint\n",
    "\n",
    "board = []\n",
    "\n",
    "for x in range(0, 5):\n",
    "    board.append([\"O\"] * 5)\n",
    "\n",
    "def print_board(board):\n",
    "    for row in board:\n",
    "        print \" \".join(row)\n",
    "\n",
    "print_board(board)\n",
    "\n",
    "def random_row(board):\n",
    "    return randint(0, len(board) - 1)\n",
    "\n",
    "def random_col(board):\n",
    "    return randint(0, len(board) - 1)\n",
    "\n",
    "\n",
    "ship_row = random_row(board)\n",
    "ship_col = random_col(board)\n",
    "print ship_row\n",
    "print ship_col\n",
    "guess_row = int(raw_input(\"Guess Row:\"))-1\n",
    "guess_col = int(raw_input(\"Guess Col:\"))-1\n",
    "\n",
    "\n",
    "\n",
    "# Write your code below!\n",
    "if guess_row ==ship_row and guess_col == ship_col:\n",
    "    print \"Congratulations! You sank my battleship!\"\n",
    "else:\n",
    "    if guess_row not in range(5) or guess_col not in range(5):\n",
    "        print \"Oops, that's not even in the ocean.\"\n",
    "    elif board[guess_row][guess_col]==\"X\":\n",
    "        print \"You guessed that one already.\"\n",
    "    else:\n",
    "        print\"You missed my battleship!\"\n",
    "        board[guess_row][guess_col]=\"X\"\n",
    "        print_board(board)"
   ]
  },
  {
   "cell_type": "code",
   "execution_count": null,
   "metadata": {
    "collapsed": true
   },
   "outputs": [],
   "source": []
  }
 ],
 "metadata": {
  "kernelspec": {
   "display_name": "Python 3",
   "language": "python",
   "name": "python3"
  },
  "language_info": {
   "codemirror_mode": {
    "name": "ipython",
    "version": 3
   },
   "file_extension": ".py",
   "mimetype": "text/x-python",
   "name": "python",
   "nbconvert_exporter": "python",
   "pygments_lexer": "ipython3",
   "version": "3.4.3"
  }
 },
 "nbformat": 4,
 "nbformat_minor": 0
}
