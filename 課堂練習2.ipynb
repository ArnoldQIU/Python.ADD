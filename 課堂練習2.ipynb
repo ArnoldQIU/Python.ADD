{
 "cells": [
  {
   "cell_type": "code",
   "execution_count": 2,
   "metadata": {
    "collapsed": false
   },
   "outputs": [
    {
     "name": "stdout",
     "output_type": "stream",
     "text": [
      "輸入a或b或c \"press q to quit\":A\n",
      "無資料\n",
      "輸入a或b或c \"press q to quit\":A\n",
      "無資料\n",
      "輸入a或b或c \"press q to quit\":a\n",
      "apple\n",
      "輸入a或b或c \"press q to quit\":b\n",
      "banana\n",
      "輸入a或b或c \"press q to quit\":c\n",
      "cherry\n",
      "輸入a或b或c \"press q to quit\":q\n",
      "謝謝惠顧\n"
     ]
    }
   ],
   "source": [
    "\n",
    "b={'a':'apple','b':'banana','c':'cherry'}\n",
    "while True:\n",
    "    box=input('輸入a或b或c \"press q to quit\":')\n",
    "    if box == 'q':\n",
    "        print(\"謝謝惠顧\")\n",
    "        break\n",
    "    elif box in b:\n",
    "        print(b[box])\n",
    "        continue\n",
    "    else:\n",
    "        print('無資料')"
   ]
  },
  {
   "cell_type": "code",
   "execution_count": 4,
   "metadata": {
    "collapsed": false
   },
   "outputs": [
    {
     "data": {
      "text/plain": [
       "'apple'"
      ]
     },
     "execution_count": 4,
     "metadata": {},
     "output_type": "execute_result"
    }
   ],
   "source": [
    "b={'a':'apple','b':'banana','g':'grape'}\n",
    "b['a']"
   ]
  },
  {
   "cell_type": "code",
   "execution_count": null,
   "metadata": {
    "collapsed": true
   },
   "outputs": [],
   "source": []
  }
 ],
 "metadata": {
  "kernelspec": {
   "display_name": "Python 3",
   "language": "python",
   "name": "python3"
  }
 },
 "nbformat": 4,
 "nbformat_minor": 0
}
