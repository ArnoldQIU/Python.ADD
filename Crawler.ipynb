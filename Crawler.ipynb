{
 "cells": [
  {
   "cell_type": "code",
   "execution_count": 1,
   "metadata": {
    "collapsed": true
   },
   "outputs": [],
   "source": [
    "import requests\n",
    "\n",
    "from bs4 import BeautifulSoup"
   ]
  },
  {
   "cell_type": "code",
   "execution_count": 17,
   "metadata": {
    "collapsed": false
   },
   "outputs": [
    {
     "name": "stdout",
     "output_type": "stream",
     "text": [
      "\n",
      "Re: [心得] 104學年度轉系/雙修/輔系成功者背景分享\n",
      "  8/27 jimmy8025\n",
      "\n",
      "Re: [心得] 104學年度轉系/雙修/輔系成功者背景分享\n",
      "  8/28 tan84911\n",
      "\n",
      "轉物理系選課問題\n",
      "  8/31 ljpg\n",
      "\n",
      "[雙修] 國企系 審查資料重不重要 財金系是否該先修過微積分等\n",
      "  9/12 icecandy1298\n",
      "\n",
      "[轉系] 化工系轉出問題\n",
      "  9/23 kkkk483\n",
      "\n",
      "法律系內轉雙主修輔系讀書會\n",
      "  9/29 peipeicheng\n",
      "\n",
      "[雙修] 雙主修必修選修問題 \n",
      "  9/29 kh9341101\n",
      "\n",
      "【問題】關於雙輔生傳系\n",
      " 10/11 wenbuneatble\n",
      "\n",
      "[情報] 法律系雙轉輔讀書會招募中\n",
      " 10/12 Feather1005\n",
      "\n",
      "[輔系] 機械輔電機~\n",
      " 10/16 nnn2149\n",
      "\n",
      "Fw: [福利] 輔系事後核可制通過！\n",
      " 10/17 lyviasun\n",
      "\n",
      "[轉系] 轉醫學系\n",
      " 10/17 Nobita5729\n",
      "\n",
      "[轉系] 經濟系\n",
      " 10/29 kinglai1996\n",
      "\n",
      "[雙修]  雙主修的疑問\n",
      " 12/28 zxcv4982543\n",
      "\n",
      "[轉系] 請問有轉獸醫的資料嗎\n",
      "  1/01 ncgncgncg\n",
      "\n",
      "[轉系] 轉經濟\n",
      "  1/04 g1101104\n",
      "\n",
      "[雙修] 放棄原系問題（雙國企）\n",
      "  1/06 kaiya26\n",
      "\n",
      "[轉錄][福利] 選課Q&A--你想知道的選課新制！\n",
      "  9/02 darkelf328\n",
      "\n",
      "[轉錄][福利] 選課Q&A--初選學分上限說明！\n",
      "  9/02 darkelf328\n",
      "\n",
      "[公告] 雙修版發文新規定\n",
      "  7/23 dreamof28\n",
      "\n",
      "Re: [心得] 102學年度轉系/雙修/輔系成功者背景分享\n",
      "  9/23 alice801111\n"
     ]
    },
    {
     "name": "stderr",
     "output_type": "stream",
     "text": [
      "C:\\Users\\user1\\Anaconda3\\lib\\site-packages\\requests\\packages\\urllib3\\connectionpool.py:768: InsecureRequestWarning: Unverified HTTPS request is being made. Adding certificate verification is strongly advised. See: https://urllib3.readthedocs.org/en/latest/security.html\n",
      "  InsecureRequestWarning)\n"
     ]
    }
   ],
   "source": [
    "\n",
    "ppt=requests.get(\"https://www.ptt.cc/bbs/DoubleMajor/index.html\",verify=False)\n",
    "soup=BeautifulSoup(ppt.text)\n",
    "for PPT in soup.select('.r-ent'):\n",
    "    print(PPT.select('.title')[0].text,PPT.select('.date')[0].text,PPT.select('.author')[0].text)"
   ]
  },
  {
   "cell_type": "code",
   "execution_count": 44,
   "metadata": {
    "collapsed": false
   },
   "outputs": [
    {
     "name": "stdout",
     "output_type": "stream",
     "text": [
      " 8/17 yichia9470 \n",
      "Re: [心得] 103學年度轉系/雙修/輔系成功者背景分享\n",
      "\n",
      " 8/18 iv0202 \n",
      "Re: [心得] 103學年度轉系/雙修/輔系成功者背景分享\n",
      "\n",
      " 8/18 hsing75412 \n",
      "Re: [雙修] 請問雙主修畢業證書圖檔 不同學院版本\n",
      "\n",
      " 8/18 leechiapao \n",
      "Re: [心得] 103學年度轉系/雙修/輔系成功者背景分享\n",
      "\n",
      " 8/19 pigletchu \n",
      "Re: [雙修] 請問雙主修畢業證書圖檔 不同學院版\n",
      "\n",
      " 8/19 qwe987654 \n",
      "[心得] 課程規劃經驗分享\n",
      "\n",
      " 8/21 sycjohn \n",
      "[雙修] 電機雙歷史心得\n",
      "\n",
      " 8/21 shrimp239 \n",
      "Re: [心得] 103學年度轉系/雙修/輔系成功者背景分享\n",
      "\n",
      " 8/23 ididebbie \n",
      "Re: [心得] 103學年度轉系/雙修/輔系成功者背景分享\n",
      "\n",
      " 8/23 jacky78 \n",
      "Re: [心得] 103學年度轉系/雙修/輔系成功者背景分享\n",
      "\n",
      " 8/25 alantai \n",
      "Re: [心得] 103學年度轉系/雙修/輔系成功者背景分享\n",
      "\n",
      " 9/15 heatthree \n",
      "[轉系] 轉出條件的問題\n",
      "\n",
      " 9/17 s12davie \n",
      "[轉系] 轉化學選課問題\n",
      "\n",
      " 9/18 kinglai1996 \n",
      "[轉系] 文院轉經濟系\n",
      "\n",
      " 9/19 ldkrsi \n",
      "Fw: [分享] 103年台大轉系 雙輔統計\n",
      "\n",
      " 9/22 paomien \n",
      "Re: [心得] 103學年度轉系/雙修/輔系成功者背景分享\n",
      "\n",
      "10/31 TBSinfinity \n",
      "Re: [心得] 103學年度轉系/雙修/輔系成功者背景分享\n",
      "\n",
      "11/10 imagine155 \n",
      "[雙修] 想請問雙修\"完\"中文的各位學長姊\n",
      "\n",
      "11/22 simonelin \n",
      "[輔系] 輔法律的憲法及名額問題\n",
      "\n",
      "12/05 dharma720 \n",
      "[情報] 轉經濟系錄取標準\n",
      "\n",
      "12/06 sanyu1010 \n",
      "[轉系] 重修化學\n",
      "\n",
      "12/14 yyd \n",
      "[心得] 轉法律心得\n",
      "\n",
      "12/16 kinglai1996 \n",
      "Re: [情報] 轉經濟系錄取標準\n",
      "\n",
      " 1/14 Albert304 \n",
      "[轉系] 轉醫學系\n",
      "\n",
      " 1/14 Albert304 \n",
      "[雙修] 大氣科學系\n",
      "\n",
      " 1/15 Zatta \n",
      "[雙修] 抵免學分是否需要補足?\n",
      "\n",
      " 1/16 EULA \n",
      "[轉系] 想轉大氣系\n",
      "\n",
      " 1/19 LeBronJame23 \n",
      "[轉系] 電機系的機率與統計\n",
      "\n",
      " 1/20 MettaTwPeace \n",
      "[轉系] 有點驚恐，想請教一下\n",
      "\n",
      " 2/03 HenryLin123 \n",
      "[雙修] 雙主修必修課兼通識\n",
      "\n",
      " 2/22 Cafica \n",
      "Fw: [校園] 103-2【廣告創意：策略與實務】奧美廣告與生傳傳播學程\n",
      "\n",
      " 2/24 vul81320 \n",
      "[心得] 雙主修由加修學系畢業（放棄原系）\n",
      "\n",
      " 2/25 q82419 \n",
      "Re: [心得] 雙主修由加修學系畢業（放棄原系）\n",
      "\n",
      " 2/27 LeBronJame23 \n",
      "[轉系] 抵免後又轉系的問題\n",
      "\n",
      " 3/11 yeeoo \n",
      "[轉系] 轉化工系\n",
      "\n",
      " 3/27 wenning0517 \n",
      "[問題] 大四轉系後申請雙主修\n",
      "\n",
      " 4/10 philip20336 \n",
      "[轉系] [問題]關於轉系志願序\n",
      "\n",
      " 4/10 A46112006 \n",
      "[雙修] 想請問在學重考進入臺大能雙修嗎\n",
      "\n",
      " 4/20 doublefatty \n",
      "學程問題\n",
      "\n",
      " 4/25 kenljs943 \n",
      "[心得] 103年藥學系轉系生成績\n",
      "\n",
      " 4/27 dannytang850 \n",
      "［問題］再申請一次雙修\n",
      "\n",
      " 4/30 claire199705 \n",
      "[雙修] 交大機械雙主修電機 \n",
      "\n",
      " 5/04 harry3203751 \n",
      "[雙修] 工科雙機械問題\n",
      "\n",
      " 6/02 ugetme \n",
      "[轉系] 容易轉成功的系\n",
      "\n",
      " 6/02 Helen24842 \n",
      "[問題] 轉進原有輔系後，原系降輔的時效問題\n",
      "\n",
      " 6/04 he00863066 \n",
      "[轉系] 80學分班轉護理系\n",
      "\n",
      " 6/09 kaiya26 \n",
      "[雙修] [問題]雙修後的年級及必帶問題\n",
      "\n",
      " 6/22 zongzijike \n",
      "轉管院的系困難程度有差嗎\n",
      "\n",
      " 6/22 jcjc \n",
      "Re: 轉管院的系困難程度有差嗎\n",
      "\n",
      " 6/22 clothj21194 \n",
      "[問題] 轉、雙法律選組？\n",
      "\n",
      " 6/24 syric \n",
      "[心得] 農經雙園藝達成心得\n",
      "\n",
      " 6/24 hank850503 \n",
      "[雙修] 雙電機的一些疑問\n",
      "\n",
      " 6/27 zongzijike \n",
      "[轉系] 轉雙財金的可能性\n",
      "\n",
      " 6/28 jack3017 \n",
      "[雙修] 請問雙輔資工系的限制\n",
      "\n",
      " 6/29 sanya1128 \n",
      "[雙修] 雙會計自傳 大概要寫哪些(求救)\n",
      "\n",
      " 7/03 kh9341101 \n",
      "[雙修] 雙經濟志願序\n",
      "\n",
      " 7/05 sleepyslug \n",
      "[問題] 請問雙主修修不完可以用輔系畢業嗎\n",
      "\n",
      " 7/06 shirley1206 \n",
      "[輔系] 經濟系輔系轉成雙修或轉系\n",
      "\n",
      " 7/06 Anchorites \n",
      "[雙輔] 雙輔歷史系\n",
      "\n",
      " 7/12 kevin1ptt \n",
      "[輔系] 數學系 - 一點修課的疑問\n",
      "\n",
      " 7/14 Ulster \n",
      "[心得] 法律雙財金四年達成心得\n",
      "\n",
      " 7/16 rupg4vupskin \n",
      "[心得] 經濟系轉系考\n",
      "\n",
      " 7/16 Burtgang \n",
      "[問題] 轉系和雙主修的審核順序問題！\n",
      "\n",
      " 7/17 hc974411 \n",
      "[雙修] 政治系政論組\n",
      "\n",
      " 7/18 emsian \n",
      "[問題] 轉系生的畢業名次？\n",
      "\n",
      " 7/20 iamsofa \n",
      "[轉系] 社工系-口試準備方向\n",
      "\n",
      " 7/25 yanghowa \n",
      "[心得] 數學雙財金四年心得\n",
      "\n",
      " 7/26 skykey111 \n",
      "交大轉系難易\n",
      "\n",
      " 7/29 panruru1224 \n",
      "[心得] 機械轉物理雙數學四年畢心得\n",
      "\n",
      " 8/04 flyingfroggg \n",
      "[情報] 出來了\n",
      "\n",
      " 8/05 LeBronJame23 \n",
      "Fw: [試題] 104年電機轉系考微積分\n",
      "\n",
      " 8/05 LeBronJame23 \n",
      "Fw: [試題] 104年電機轉系考微積分(參考解答)\n",
      "\n",
      " 8/05 LeBronJame23 \n",
      "Fw: [試題] 104年電機轉系考物理\n",
      "\n",
      " 8/05 LeBronJame23 \n",
      "Fw: [試題] 104年電機轉系考物理(參考解答)\n",
      "\n",
      " 8/05 LeeChi5566 \n",
      "[心得] 104學年度轉系/雙修/輔系成功者背景分享\n",
      "\n",
      " 8/05 zongzijike \n",
      "Re: [心得] 104學年度轉系/雙修/輔系成功者背景分享\n",
      "\n",
      " 8/05 tenhou \n",
      "Re: [心得] 104學年度轉系/雙修/輔系成功者背景分享\n",
      "\n",
      " 8/05 pp8407231 \n",
      "Re: [心得] 104學年度轉系/雙修/輔系成功者背景分享\n",
      "\n",
      " 8/05 ocf001497 \n",
      "Re: [心得] 104學年度轉系/雙修/輔系成功者背景分享\n",
      "\n",
      " 8/05 Burtgang \n",
      "Re: [問題] 轉系和雙主修的審核順序問題！\n",
      "\n"
     ]
    }
   ],
   "source": [
    "import requests\n",
    "from bs4 import BeautifulSoup\n",
    "for i in ['260','261','262','263']:\n",
    "    res=requests.get(\"https://www.ptt.cc/bbs/DoubleMajor/index\"+i+\".html\")   \n",
    "    data=BeautifulSoup(res.text)\n",
    "    for entry in data.select('.r-ent'):\n",
    "        print(entry.select('.date')[0].text,entry.select('.author')[0].text,entry.select('.title')[0].text)\n"
   ]
  },
  {
   "cell_type": "code",
   "execution_count": 47,
   "metadata": {
    "collapsed": false
   },
   "outputs": [
    {
     "data": {
      "text/plain": [
       "-1"
      ]
     },
     "execution_count": 47,
     "metadata": {},
     "output_type": "execute_result"
    }
   ],
   "source": [
    "fn=\"__kFc.csv\"\n",
    "fn.find('C')"
   ]
  },
  {
   "cell_type": "code",
   "execution_count": 3,
   "metadata": {
    "collapsed": false
   },
   "outputs": [
    {
     "name": "stdout",
     "output_type": "stream",
     "text": [
      "我重複了 0 次\n",
      "我重複了 1 次\n",
      "我重複了 2 次\n",
      "我重複了 3 次\n",
      "我重複了 4 次\n",
      "我重複了 5 次\n",
      "我重複了 6 次\n",
      "我重複了 7 次\n",
      "我重複了 8 次\n",
      "我重複了 9 次\n"
     ]
    }
   ],
   "source": [
    "i=0\n",
    "while i < 10 :\n",
    "    print(\"我重複了\",i,\"次\" )\n",
    "    i=i+1\n",
    "\n"
   ]
  },
  {
   "cell_type": "code",
   "execution_count": 14,
   "metadata": {
    "collapsed": false
   },
   "outputs": [
    {
     "name": "stdout",
     "output_type": "stream",
     "text": [
      "*\n",
      "***\n",
      "*****\n",
      "*******\n",
      "*********\n",
      "***********\n",
      "*************\n",
      "***************\n"
     ]
    }
   ],
   "source": [
    "for j in range(1,16,2):\n",
    "    print(\"*\"*j)"
   ]
  },
  {
   "cell_type": "code",
   "execution_count": 26,
   "metadata": {
    "collapsed": false
   },
   "outputs": [
    {
     "data": {
      "text/plain": [
       "{'A': 3, 'C': 1, 'G': 1, 'T': 2}"
      ]
     },
     "execution_count": 26,
     "metadata": {},
     "output_type": "execute_result"
    }
   ],
   "source": [
    "a=[\"A\",\"T\",\"G\",\"C\",\"A\",\"A\",\"T\"]\n",
    "counter={'A':0,'T':0,'G':0,'C':0}\n",
    "counter={letter:a.count(letter)for letter in set(a)}\n",
    "counter"
   ]
  },
  {
   "cell_type": "code",
   "execution_count": 28,
   "metadata": {
    "collapsed": true
   },
   "outputs": [],
   "source": [
    "def calc_bmi(w,h,hunit='m'):\n",
    "    if hunit == 'cm':\n",
    "        h/=100.0\n",
    "    return float(w)/h**2"
   ]
  },
  {
   "cell_type": "code",
   "execution_count": 33,
   "metadata": {
    "collapsed": false
   },
   "outputs": [
    {
     "data": {
      "text/plain": [
       "19.591836734693878"
      ]
     },
     "execution_count": 33,
     "metadata": {},
     "output_type": "execute_result"
    }
   ],
   "source": [
    "calc_bmi(hunit='cm',h=175,w=60)"
   ]
  },
  {
   "cell_type": "code",
   "execution_count": 39,
   "metadata": {
    "collapsed": false
   },
   "outputs": [
    {
     "ename": "SyntaxError",
     "evalue": "(unicode error) 'unicodeescape' codec can't decode bytes in position 2-3: truncated \\UXXXXXXXX escape (<ipython-input-39-4fee4cb7cd17>, line 2)",
     "output_type": "error",
     "traceback": [
      "\u001b[1;36m  File \u001b[1;32m\"<ipython-input-39-4fee4cb7cd17>\"\u001b[1;36m, line \u001b[1;32m2\u001b[0m\n\u001b[1;33m    with open(\"C:\\Users\\user1\\Desktop\\1111.csv\") as f:\u001b[0m\n\u001b[1;37m             ^\u001b[0m\n\u001b[1;31mSyntaxError\u001b[0m\u001b[1;31m:\u001b[0m (unicode error) 'unicodeescape' codec can't decode bytes in position 2-3: truncated \\UXXXXXXXX escape\n"
     ]
    }
   ],
   "source": [
    "import csv\n",
    "with open(\"C:\\Users\\user1\\Desktop\\1111.csv\") as f:\n",
    "    csvr=csv.reader(f)\n",
    "    for row in csvr:\n",
    "        print(row)"
   ]
  },
  {
   "cell_type": "code",
   "execution_count": 47,
   "metadata": {
    "collapsed": false
   },
   "outputs": [
    {
     "name": "stdout",
     "output_type": "stream",
     "text": [
      "Populating the interactive namespace from numpy and matplotlib\n"
     ]
    }
   ],
   "source": [
    "%pylab inline"
   ]
  },
  {
   "cell_type": "code",
   "execution_count": 53,
   "metadata": {
    "collapsed": false
   },
   "outputs": [
    {
     "data": {
      "text/plain": [
       "[<matplotlib.lines.Line2D at 0x61135c0>]"
      ]
     },
     "execution_count": 53,
     "metadata": {},
     "output_type": "execute_result"
    },
    {
     "data": {
      "image/png": "[encoded data removed]",
      "text/plain": [
       "<matplotlib.figure.Figure at 0x5dbf908>"
      ]
     },
     "metadata": {},
     "output_type": "display_data"
    }
   ],
   "source": [
    "import random\n",
    "plot(range(1,11),[random.randint(1,11) for i in range(1,11)])"
   ]
  },
  {
   "cell_type": "code",
   "execution_count": 56,
   "metadata": {
    "collapsed": false
   },
   "outputs": [
    {
     "data": {
      "text/latex": [
       "$$c=\\sqrt{a^3+b^8}$$"
      ],
      "text/plain": [
       "<IPython.core.display.Math object>"
      ]
     },
     "metadata": {},
     "output_type": "display_data"
    }
   ],
   "source": [
    "from IPython.display import display,Math,Latex\n",
    "display(Math(r'c=\\sqrt{a^3+b^8}'))"
   ]
  },
  {
   "cell_type": "code",
   "execution_count": 65,
   "metadata": {
    "collapsed": false
   },
   "outputs": [
    {
     "name": "stdout",
     "output_type": "stream",
     "text": [
      "\n",
      "\n",
      "    Brian Granger: All About Jupyter\n",
      "  \n",
      "\n",
      "     - 播放時間：39:50。\n",
      "  \n",
      "PyData\n",
      "觀看次數：1,027\n",
      "\n",
      "\n",
      "\n",
      "    如何安裝 Jupyter (Ipython Notebook)\n",
      "  \n",
      "\n",
      "     - 播放時間：4:30。\n",
      "  \n",
      "大數軟體有限公司\n",
      "觀看次數：4,671\n",
      "\n",
      "\n",
      "\n",
      "    [爬蟲實戰] 如何抓取淘寶網雙十一購物狂歡節活動網頁中的商品列表?\n",
      "  \n",
      "\n",
      "     - 播放時間：6:39。\n",
      "  \n",
      "大數軟體有限公司\n",
      "觀看次數：518\n",
      "\n",
      "\n",
      "\n",
      "    [爬蟲實戰] 如何擷取網頁中的隱藏輸入以順利下載證交所的 csv 檔?\n",
      "  \n",
      "\n",
      "     - 播放時間：9:55。\n",
      "  \n",
      "大數軟體有限公司\n",
      "觀看次數：806\n",
      "\n",
      "\n",
      "\n",
      "    Teaching with IPython:Jupyter Notebooks and JupyterHub | SciPy 2015 | Jessica Hamrick\n",
      "  \n",
      "\n",
      "     - 播放時間：19:57。\n",
      "  \n",
      "Enthought\n",
      "觀看次數：3,579\n",
      "\n",
      "\n",
      "\n",
      "    [資料產品實作] 如何取得臉書使用頻率最高的文字 (Part 1)?\n",
      "  \n",
      "\n",
      "     - 播放時間：7:57。\n",
      "  \n",
      "大數軟體有限公司\n",
      "觀看次數：802\n",
      "\n",
      "\n",
      "\n",
      "    KSP 新手教學 - 基本操作\n",
      "  \n",
      "\n",
      "     - 播放時間：26:41。\n",
      "  \n",
      "KSPForeverAlone\n",
      "觀看次數：9,910\n",
      "\n",
      "\n",
      "\n",
      "    如何安裝 R (3.2.0 for Windows)\n",
      "  \n",
      "\n",
      "     - 播放時間：2:50。\n",
      "  \n",
      "大數軟體有限公司\n",
      "觀看次數：896\n",
      "\n",
      "\n",
      "\n",
      "    [爬蟲實戰] 如何爬取圖片以建立慾望之牆?\n",
      "  \n",
      "\n",
      "     - 播放時間：5:19。\n",
      "  \n",
      "大數軟體有限公司\n",
      "觀看次數：1,129\n",
      "\n",
      "\n",
      "\n",
      "    如何在Windows上 安裝 RStudio\n",
      "  \n",
      "\n",
      "     - 播放時間：3:49。\n",
      "  \n",
      "大數軟體有限公司\n",
      "觀看次數：775\n",
      "\n",
      "\n",
      "\n",
      "    ipython / notebook demo\n",
      "  \n",
      "\n",
      "     - 播放時間：25:40。\n",
      "  \n",
      "Next Day Video\n",
      "觀看次數：6,534\n",
      "\n",
      "\n",
      "\n",
      "    [爬蟲實戰] 如何抓取集保戶股權分散表?\n",
      "  \n",
      "\n",
      "     - 播放時間：4:07。\n",
      "  \n",
      "大數軟體有限公司\n",
      "觀看次數：840\n",
      "\n",
      "\n",
      "\n",
      "    Let's python 001 下載安裝及初步入門\n",
      "  \n",
      "\n",
      "     - 播放時間：1:25:46。\n",
      "  \n",
      "網路教學影片收集\n",
      "觀看次數：2,862\n",
      "\n",
      "\n",
      "\n",
      "    [交易系統] 如何透過Python 將抓取下來的金額資訊存入資料庫中?\n",
      "  \n",
      "\n",
      "     - 播放時間：3:56。\n",
      "  \n",
      "大數軟體有限公司\n",
      "觀看次數：678\n",
      "\n",
      "\n",
      "\n",
      "    2. Markdown & LaTeX - Jupyter Tutorial (IPython 3)\n",
      "  \n",
      "\n",
      "     - 播放時間：20:07。\n",
      "  \n",
      "Roshan\n",
      "觀看次數：8,500\n",
      "\n",
      "\n",
      "\n",
      "    [資料產品實作] 如何取得臉書使用頻率最高的文字 (Part 3)?\n",
      "  \n",
      "\n",
      "     - 播放時間：3:36。\n",
      "  \n",
      "大數軟體有限公司\n",
      "觀看次數：364\n",
      "\n",
      "\n",
      "\n",
      "    Kyle Kelley - To the Future with Jupyter\n",
      "  \n",
      "\n",
      "     - 播放時間：9:57。\n",
      "  \n",
      "PyData\n",
      "觀看次數：862\n",
      "\n",
      "\n",
      "\n",
      "    [資料產品實作] 如何跟vonvon一樣取得在臉書中最難忘的相片?\n",
      "  \n",
      "\n",
      "     - 播放時間：9:42。\n",
      "  \n",
      "大數軟體有限公司\n",
      "觀看次數：180\n",
      "\n",
      "\n",
      "\n",
      "    為什麼要使用版本控制系統?\n",
      "  \n",
      "\n",
      "     - 播放時間：2:25。\n",
      "  \n",
      "大數軟體有限公司\n",
      "觀看次數：483\n",
      "\n"
     ]
    }
   ],
   "source": [
    "import requests as rq\n",
    "from bs4 import BeautifulSoup as bs\n",
    "youtube=rq.get('https://www.youtube.com/watch?v=lWkcP4xF8wI')\n",
    "beautiful=bs(youtube.text)\n",
    "for entry in beautiful.select('.content-wrapper'):\n",
    "    print (entry.select('a')[0].text)"
   ]
  },
  {
   "cell_type": "code",
   "execution_count": null,
   "metadata": {
    "collapsed": true
   },
   "outputs": [],
   "source": [
    "import requests\n",
    "from bs4 import BeautifulSoup\n",
    "for i in range(9):\n",
    "    res=requests.get(\"http://www.cartoomad.com/comic/12160042203500\"+str(i)+\".html\")   \n",
    "    data=BeautifulSoup(res.text)\n",
    "    for entry in data.select('img '):\n",
    "        print(\n"
   ]
  }
 ],
 "metadata": {
  "kernelspec": {
   "display_name": "Python 3",
   "language": "python",
   "name": "python3"
  },
  "language_info": {
   "codemirror_mode": {
    "name": "ipython",
    "version": 3
   },
   "file_extension": ".py",
   "mimetype": "text/x-python",
   "name": "python",
   "nbconvert_exporter": "python",
   "pygments_lexer": "ipython3",
   "version": "3.4.3"
  }
 },
 "nbformat": 4,
 "nbformat_minor": 0
}
