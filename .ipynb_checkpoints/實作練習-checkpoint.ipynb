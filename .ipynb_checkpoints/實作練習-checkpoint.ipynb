{
 "cells": [
  {
   "cell_type": "code",
   "execution_count": 28,
   "metadata": {
    "collapsed": false
   },
   "outputs": [
    {
     "name": "stdout",
     "output_type": "stream",
     "text": [
      "['樂活']\n",
      "['阿水茶鋪']\n",
      "['麵包']\n",
      "['公館夜市']\n",
      "['公館夜市']\n",
      "['自助餐']\n",
      "['公館夜市']\n"
     ]
    }
   ],
   "source": [
    "import random \n",
    "for i in range(7): \n",
    "    print (random.sample(['自助餐', '公館夜市', '麵包', '丼太郎', '樂活', '阿水茶鋪', '廁所吃屎'], 1) )"
   ]
  },
  {
   "cell_type": "code",
   "execution_count": 45,
   "metadata": {
    "collapsed": false
   },
   "outputs": [
    {
     "name": "stdout",
     "output_type": "stream",
     "text": [
      "['樂活', '丼太郎', '四海遊龍', '廁所吃屎', '自助餐'] 配 ['醬油', '咖啡', '阿水茶鋪', '木瓜牛奶', '白開水']\n"
     ]
    }
   ],
   "source": [
    "import math\n",
    "import random\n",
    " \n",
    "Food=['自助餐', '公館夜市', '麵包', '丼太郎', '樂活', '四海遊龍', '廁所吃屎']\n",
    "Drink=['阿水茶鋪','好了啦','木瓜牛奶','青蛙撞奶','咖啡','白開水','醬油']\n",
    "food_sample=random.sample(Food,5)\n",
    "Drink_sample = random.sample(Drink,5)\n",
    "print (food_sample,'配',Drink_sample)\n"
   ]
  },
  {
   "cell_type": "code",
   "execution_count": 80,
   "metadata": {
    "collapsed": false
   },
   "outputs": [
    {
     "name": "stdout",
     "output_type": "stream",
     "text": [
      "[['四海遊龍'], ['自助餐'], ['樂活'], ['便當'], ['公館夜市']]\n"
     ]
    }
   ],
   "source": [
    "import random\n",
    "lis = []\n",
    "while len(lis) < 5:\n",
    "    a = random.sample(['自助餐', '公館夜市', '麵包', '丼太郎', '樂活', '四海遊龍', '便當'],1)\n",
    "    if a not in lis:\n",
    "        lis.append(a)\n",
    "\n",
    "print(lis)"
   ]
  }
 ],
 "metadata": {
  "kernelspec": {
   "display_name": "Python 3",
   "language": "python",
   "name": "python3"
  }
 },
 "nbformat": 4,
 "nbformat_minor": 0
}
