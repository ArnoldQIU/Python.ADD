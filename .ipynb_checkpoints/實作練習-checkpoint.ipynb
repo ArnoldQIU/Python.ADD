{
 "cells": [
  {
   "cell_type": "code",
   "execution_count": 28,
   "metadata": {
    "collapsed": false
   },
   "outputs": [
    {
     "name": "stdout",
     "output_type": "stream",
     "text": [
      "['樂活']\n",
      "['阿水茶鋪']\n",
      "['麵包']\n",
      "['公館夜市']\n",
      "['公館夜市']\n",
      "['自助餐']\n",
      "['公館夜市']\n"
     ]
    }
   ],
   "source": [
    "import random \n",
    "for i in range(7): \n",
    "    print (random.sample(['自助餐', '公館夜市', '麵包', '丼太郎', '樂活', '阿水茶鋪', '廁所吃屎'], 1) )"
   ]
  },
  {
   "cell_type": "code",
   "execution_count": 45,
   "metadata": {
    "collapsed": false
   },
   "outputs": [
    {
     "name": "stdout",
     "output_type": "stream",
     "text": [
      "['樂活', '丼太郎', '四海遊龍', '廁所吃屎', '自助餐'] 配 ['醬油', '咖啡', '阿水茶鋪', '木瓜牛奶', '白開水']\n"
     ]
    }
   ],
   "source": [
    "\n",
    "import random\n",
    " \n",
    "Food=['自助餐', '公館夜市', '麵包', '丼太郎', '樂活', '四海遊龍', '廁所吃屎']\n",
    "Drink=['阿水茶鋪','好了啦','木瓜牛奶','青蛙撞奶','咖啡','白開水','醬油']\n",
    "food_sample=random.sample(Food,5)\n",
    "Drink_sample = random.sample(Drink,5)\n",
    "print (food_sample,'配',Drink_sample)\n"
   ]
  },
  {
   "cell_type": "code",
   "execution_count": 1,
   "metadata": {
    "collapsed": false
   },
   "outputs": [
    {
     "name": "stdout",
     "output_type": "stream",
     "text": [
      "[['便當'], ['自助餐'], ['公館夜市'], ['麵包'], ['丼太郎']]\n"
     ]
    }
   ],
   "source": [
    "import random\n",
    "lis = []\n",
    "while len(lis) < 5:\n",
    "    a = random.sample(['自助餐', '公館夜市', '麵包', '丼太郎', '樂活', '四海遊龍', '便當'],1)\n",
    "    if a not in lis:\n",
    "        lis.append(a)\n",
    "\n",
    "print(lis)"
   ]
  },
  {
   "cell_type": "code",
   "execution_count": 8,
   "metadata": {
    "collapsed": false
   },
   "outputs": [
    {
     "ename": "AttributeError",
     "evalue": "'set' object has no attribute 'items'",
     "output_type": "error",
     "traceback": [
      "\u001b[1;31m---------------------------------------------------------------------------\u001b[0m",
      "\u001b[1;31mAttributeError\u001b[0m                            Traceback (most recent call last)",
      "\u001b[1;32m<ipython-input-8-2cc58435c85d>\u001b[0m in \u001b[0;36m<module>\u001b[1;34m()\u001b[0m\n\u001b[0;32m      3\u001b[0m \u001b[0mlist\u001b[0m\u001b[1;33m[\u001b[0m\u001b[0mrandom\u001b[0m\u001b[1;33m.\u001b[0m\u001b[0mchoice\u001b[0m\u001b[1;33m(\u001b[0m\u001b[0mrange\u001b[0m\u001b[1;33m(\u001b[0m\u001b[1;36m0\u001b[0m\u001b[1;33m,\u001b[0m\u001b[1;36m7\u001b[0m\u001b[1;33m)\u001b[0m\u001b[1;33m)\u001b[0m\u001b[1;33m]\u001b[0m\u001b[1;33m\u001b[0m\u001b[0m\n\u001b[0;32m      4\u001b[0m \u001b[0ma\u001b[0m \u001b[1;33m=\u001b[0m \u001b[1;33m{\u001b[0m\u001b[1;34m'Monday'\u001b[0m\u001b[1;33m,\u001b[0m\u001b[1;34m'Tuesday'\u001b[0m\u001b[1;33m,\u001b[0m\u001b[1;34m'Wednesday'\u001b[0m\u001b[1;33m,\u001b[0m\u001b[1;34m'Thursday'\u001b[0m\u001b[1;33m,\u001b[0m\u001b[1;34m'Friday'\u001b[0m\u001b[1;33m,\u001b[0m\u001b[1;34m'Saturday'\u001b[0m\u001b[1;33m,\u001b[0m\u001b[1;34m'Sunday'\u001b[0m\u001b[1;33m}\u001b[0m\u001b[1;33m\u001b[0m\u001b[0m\n\u001b[1;32m----> 5\u001b[1;33m \u001b[1;32mfor\u001b[0m \u001b[0mx\u001b[0m\u001b[1;33m,\u001b[0m\u001b[0my\u001b[0m \u001b[1;32min\u001b[0m \u001b[0ma\u001b[0m\u001b[1;33m.\u001b[0m\u001b[0mitems\u001b[0m\u001b[1;33m(\u001b[0m\u001b[1;33m)\u001b[0m\u001b[1;33m:\u001b[0m\u001b[1;33m\u001b[0m\u001b[0m\n\u001b[0m\u001b[0;32m      6\u001b[0m     \u001b[1;32mif\u001b[0m \u001b[0minput\u001b[0m\u001b[1;33m(\u001b[0m\u001b[1;33m)\u001b[0m \u001b[1;32min\u001b[0m \u001b[0mcontents\u001b[0m \u001b[1;33m:\u001b[0m\u001b[1;33m\u001b[0m\u001b[0m\n\u001b[0;32m      7\u001b[0m         \u001b[0mprint\u001b[0m\u001b[1;33m(\u001b[0m\u001b[0mlist\u001b[0m\u001b[1;33m[\u001b[0m\u001b[0mrandom\u001b[0m\u001b[1;33m.\u001b[0m\u001b[0mchoice\u001b[0m\u001b[1;33m(\u001b[0m\u001b[0mrange\u001b[0m\u001b[1;33m(\u001b[0m\u001b[1;36m0\u001b[0m\u001b[1;33m,\u001b[0m\u001b[1;36m6\u001b[0m\u001b[1;33m)\u001b[0m\u001b[1;33m)\u001b[0m\u001b[1;33m]\u001b[0m\u001b[1;33m)\u001b[0m\u001b[1;33m\u001b[0m\u001b[0m\n",
      "\u001b[1;31mAttributeError\u001b[0m: 'set' object has no attribute 'items'"
     ]
    }
   ],
   "source": [
    "import random\n",
    "list = ['R1','R2','R3','R4','R5','R6','R7']\n",
    "list[random.choice(range(0,7))]\n",
    "a = {'Monday','Tuesday','Wednesday','Thursday','Friday','Saturday','Sunday'}\n",
    "for x,y in a.items():\n",
    "    if input() in contents :\n",
    "        print(list[random.choice(range(0,6))])"
   ]
  },
  {
   "cell_type": "code",
   "execution_count": 10,
   "metadata": {
    "collapsed": false
   },
   "outputs": [
    {
     "ename": "IndentationError",
     "evalue": "unexpected indent (<ipython-input-10-777c73d7c3bb>, line 2)",
     "output_type": "error",
     "traceback": [
      "\u001b[1;36m  File \u001b[1;32m\"<ipython-input-10-777c73d7c3bb>\"\u001b[1;36m, line \u001b[1;32m2\u001b[0m\n\u001b[1;33m    if week == 'R1':\u001b[0m\n\u001b[1;37m    ^\u001b[0m\n\u001b[1;31mIndentationError\u001b[0m\u001b[1;31m:\u001b[0m unexpected indent\n"
     ]
    }
   ],
   "source": [
    "week=input(\"輸入星期幾\")\n",
    "    if week == 'R1':\n",
    "        print(XXX)\n",
    "    elif week == 'R2':\n",
    "        print(XXx)\n",
    "    \n",
    "    \n"
   ]
  },
  {
   "cell_type": "code",
   "execution_count": 22,
   "metadata": {
    "collapsed": false
   },
   "outputs": [
    {
     "name": "stdout",
     "output_type": "stream",
     "text": [
      "公館夜市 配 咖啡\n",
      "麵包 配 阿水茶鋪\n",
      "公館夜市 配 青蛙撞奶\n",
      "丼太郎 配 木瓜牛奶\n",
      "麵包 配 醬油\n",
      "麵包 配 阿水茶鋪\n",
      "公館夜市 配 木瓜牛奶\n",
      "丼太郎 配 好了啦\n",
      "丼太郎 配 咖啡\n",
      "自助餐 配 醬油\n",
      "廁所吃屎 配 木瓜牛奶\n",
      "四海遊龍 配 好了啦\n",
      "公館夜市 配 青蛙撞奶\n",
      "樂活 配 青蛙撞奶\n",
      "樂活 配 咖啡\n",
      "自助餐 配 青蛙撞奶\n",
      "公館夜市 配 咖啡\n",
      "四海遊龍 配 青蛙撞奶\n",
      "樂活 配 阿水茶鋪\n"
     ]
    }
   ],
   "source": [
    "import random\n",
    "Food=['自助餐', '公館夜市', '麵包', '丼太郎', '樂活', '四海遊龍', '廁所吃屎']\n",
    "Drink=['阿水茶鋪','好了啦','木瓜牛奶','青蛙撞奶','咖啡','白開水','醬油']\n",
    "def ran_res(list):\n",
    "    return random.choice(range(0,len(list)))\n",
    "    \n",
    "for re in range(0,19):\n",
    "    print(Food[ran_res(Food)],'配',Drink[ran_res(Drink)])"
   ]
  },
  {
   "cell_type": "code",
   "execution_count": 27,
   "metadata": {
    "collapsed": false
   },
   "outputs": [
    {
     "name": "stdout",
     "output_type": "stream",
     "text": [
      "['麵包'] 配 ['阿水茶鋪']\n",
      "['自助餐'] 配 ['阿水茶鋪']\n",
      "['樂活'] 配 ['咖啡']\n",
      "['自助餐'] 配 ['醬油']\n",
      "['四海遊龍'] 配 ['白開水']\n",
      "['自助餐'] 配 ['咖啡']\n",
      "['麵包'] 配 ['白開水']\n"
     ]
    }
   ],
   "source": [
    "import random\n",
    "Food=['自助餐', '公館夜市', '麵包', '丼太郎', '樂活', '四海遊龍', '廁所吃屎']\n",
    "Drink=['阿水茶鋪','好了啦','木瓜牛奶','青蛙撞奶','咖啡','白開水','醬油']\n",
    "def ran_res(list):\n",
    "    return random.sample(list,1)\n",
    "    \n",
    "for re in range(0,7):\n",
    "    print(ran_res(Food),'配',ran_res(Drink))"
   ]
  },
  {
   "cell_type": "code",
   "execution_count": 46,
   "metadata": {
    "collapsed": false
   },
   "outputs": [
    {
     "name": "stdout",
     "output_type": "stream",
     "text": [
      "['廁所吃屎', '公館夜市', '麵包', '自助餐', '樂活', '丼太郎', '四海遊龍']\n"
     ]
    }
   ],
   "source": [
    "import random\n",
    "Food=['自助餐', '公館夜市', '麵包', '丼太郎', '樂活', '四海遊龍', '廁所吃屎']\n",
    "Drink=['阿水茶鋪','好了啦','木瓜牛奶','青蛙撞奶','咖啡','白開水','醬油']\n",
    "def ran_res(list):\n",
    "    return random.choice(list)\n",
    "lis= []\n",
    "while len(lis) < 7 :\n",
    "    b = random.choice(Food)\n",
    "    if b not in lis:\n",
    "        lis.append(b)\n",
    "print (lis)"
   ]
  },
  {
   "cell_type": "code",
   "execution_count": null,
   "metadata": {
    "collapsed": true
   },
   "outputs": [],
   "source": []
  },
  {
   "cell_type": "code",
   "execution_count": null,
   "metadata": {
    "collapsed": false
   },
   "outputs": [
    {
     "name": "stdout",
     "output_type": "stream",
     "text": [
      "請輸入你要多少天的午餐餐單: 1\n"
     ]
    }
   ],
   "source": [
    "import random\n",
    "Food=['自助餐', '公館夜市', '麵包', '丼太郎', '樂活', '四海遊龍', '八方雲集']\n",
    "\n",
    "result = []\n",
    "\n",
    "while True:\n",
    "    user_input = input('請輸入你要多少天的午餐餐單: ')\n",
    "    \n",
    "    try:\n",
    "        int(user_input)\n",
    "    except:\n",
    "        print('我很笨, 但我還是知道你輸入的是不是一個數字:/\\n')\n",
    "        continue\n",
    "    \n",
    "    if int(user_input) <= 30:\n",
    "        break\n",
    "    elif int(user_input) > 30:\n",
    "        print('你確定你會依照這餐單超過一個月嗎? 輸入一個少於30天的數字會較好...\\n')\n",
    "        continue\n",
    "\n",
    "while True:\n",
    "    if len(result) < int(user_input):\n",
    "        result.append(random.choice(Food))\n",
    "    else:\n",
    "        i = 0\n",
    "        while i <= len(result)-1:\n",
    "            if result[i] == 0:\n",
    "                i += 1\n",
    "                continue\n",
    "            if result[i] == result[i-1]:\n",
    "                result[i] = random.choice(Food)\n",
    "            else:\n",
    "                i += 1\n",
    "        break\n",
    "\n",
    "counter = 1        \n",
    "for i in result:\n",
    "    print('第' + str(counter) + '天' + ': ' + str(i))\n",
    "    counter += 1\n",
    "\n",
    "    \n"
   ]
  },
  {
   "cell_type": "code",
   "execution_count": 1,
   "metadata": {
    "collapsed": false
   },
   "outputs": [
    {
     "name": "stdout",
     "output_type": "stream",
     "text": [
      "a\n",
      "你打錯囉\n"
     ]
    }
   ],
   "source": [
    "import random \n",
    "foods=['自助餐', '公館夜市', '麵包', '丼太郎', '樂活', '四海遊龍', '八方雲集']\n",
    "drinks=['阿水茶鋪','好了啦','木瓜牛奶','青蛙撞奶','咖啡','白開水','醬油']\n",
    "weekday=['Monday','Tuesday','Wednesday','Thursday','Friday','Saturday','Sunday']\n",
    "while True:\n",
    "    if input().capitalize() in weekday:\n",
    "        print(random.sample(foods,1),'配',random.sample(drinks,1))\n",
    "    else :\n",
    "        print('你打錯囉')"
   ]
  },
  {
   "cell_type": "code",
   "execution_count": null,
   "metadata": {
    "collapsed": false
   },
   "outputs": [
    {
     "name": "stdout",
     "output_type": "stream",
     "text": [
      "請輸入你要多少天的午餐餐單: 1\n"
     ]
    }
   ],
   "source": [
    "import random\n",
    "Food=['自助餐', '公館夜市', '麵包', '丼太郎', '樂活', '四海遊龍', '八方雲集']\n",
    "drinks=['阿水茶鋪','好了啦','木瓜牛奶','青蛙撞奶','咖啡','白開水','醬油']\n",
    "\n",
    "result = []\n",
    "result_drink = []\n",
    "\n",
    "while True:\n",
    "    user_input = input('請輸入你要多少天的午餐餐單: ')\n",
    "    \n",
    "    try:\n",
    "        int(user_input)\n",
    "    except:\n",
    "        print('我很笨, 但我還是知道你輸入的是不是一個數字:/\\n')\n",
    "        continue\n",
    "    \n",
    "    if int(user_input) <= 30:\n",
    "        break\n",
    "    elif int(user_input) > 30:\n",
    "        print('你確定你會依照這餐單超過一個月嗎? 輸入一個少於30天的數字會較好...\\n')\n",
    "        continue\n",
    "\n",
    "while True:\n",
    "    if len(result) < int(user_input):\n",
    "        result.append(random.choice(Food))\n",
    "    else:\n",
    "        i = 0\n",
    "        while i <= len(result)-1:\n",
    "            \n",
    "            if result[i] == 0:\n",
    "                i += 1\n",
    "                continue\n",
    "            if result[i] == result[i-1]:\n",
    "                result[i] = random.choice(Food)\n",
    "            else:\n",
    "                i += 1\n",
    "        break\n",
    "\n",
    "counter = 1        \n",
    "for i in result:\n",
    "    print('第' + str(counter) + '天' + ': ' + str(i))\n",
    "    counter += 1\n",
    "\n",
    "    \n"
   ]
  },
  {
   "cell_type": "code",
   "execution_count": 4,
   "metadata": {
    "collapsed": false
   },
   "outputs": [
    {
     "data": {
      "text/plain": [
       "2"
      ]
     },
     "execution_count": 4,
     "metadata": {},
     "output_type": "execute_result"
    }
   ],
   "source": [
    "c=['a','b']\n",
    "len(c)"
   ]
  },
  {
   "cell_type": "code",
   "execution_count": 16,
   "metadata": {
    "collapsed": false
   },
   "outputs": [
    {
     "name": "stdout",
     "output_type": "stream",
     "text": [
      "請輸入你要多少天的午餐餐單: 1\n",
      "第1天: 四海遊龍\n"
     ]
    }
   ],
   "source": [
    "import random\n",
    "Food=['自助餐', '公館夜市', '麵包', '丼太郎', '樂活', '四海遊龍', '八方雲集']\n",
    "\n",
    "result = []\n",
    "\n",
    "while True:\n",
    "    user_input = input('請輸入你要多少天的午餐餐單: ')\n",
    "    \n",
    "    try:\n",
    "        int(user_input)\n",
    "    except:\n",
    "        print('我很笨, 但我還是知道你輸入的是不是一個數字:/\\n')\n",
    "        continue\n",
    "    \n",
    "    if int(user_input) <= 30:\n",
    "        break\n",
    "    elif int(user_input) > 30:\n",
    "        print('你確定你會依照這餐單超過一個月嗎? 輸入一個少於30天的數字會較好...\\n')\n",
    "        continue\n",
    "\n",
    "while True:\n",
    "    if int (user_input) == 1:\n",
    "        result.append(random.choice(Food))\n",
    "        break\n",
    "    if len(result) < int(user_input):\n",
    "        result.append(random.choice(Food))\n",
    "    else:\n",
    "        i = 0\n",
    "        while i <= len(result)-1:\n",
    "            if result[i] == 0:\n",
    "                i += 1\n",
    "                continue\n",
    "            \n",
    "            if result[i] == result[i-1]:\n",
    "                result[i] = random.choice(Food)\n",
    "            else:\n",
    "                i += 1\n",
    "        break\n",
    "counter = 1        \n",
    "for i in result:\n",
    "    print('第' + str(counter) + '天' + ': ' + str(i))\n",
    "    counter += 1\n"
   ]
  },
  {
   "cell_type": "code",
   "execution_count": null,
   "metadata": {
    "collapsed": true
   },
   "outputs": [],
   "source": []
  }
 ],
 "metadata": {
  "kernelspec": {
   "display_name": "Python 3",
   "language": "python",
   "name": "python3"
  },
  "language_info": {
   "codemirror_mode": {
    "name": "ipython",
    "version": 3
   },
   "file_extension": ".py",
   "mimetype": "text/x-python",
   "name": "python",
   "nbconvert_exporter": "python",
   "pygments_lexer": "ipython3",
   "version": "3.4.3"
  }
 },
 "nbformat": 4,
 "nbformat_minor": 0
}
