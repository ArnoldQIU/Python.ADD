{
 "cells": [
  {
   "cell_type": "code",
   "execution_count": 1,
   "metadata": {
    "collapsed": false
   },
   "outputs": [
    {
     "name": "stdout",
     "output_type": "stream",
     "text": [
      "請輸入你要多少天的午餐餐單: 1\n",
      "第1天: 自助餐\n"
     ]
    }
   ],
   "source": [
    "import random\n",
    "Food=['自助餐', '公館夜市', '麵包', '丼太郎', '樂活', '四海遊龍', '八方雲集']\n",
    "\n",
    "result = []\n",
    "\n",
    "while True:\n",
    "    user_input = input('請輸入你要多少天的午餐餐單: ')\n",
    "    \n",
    "    try:\n",
    "        int(user_input)\n",
    "    except:\n",
    "        print('我很笨, 但我還是知道你輸入的是不是一個數字:/\\n')\n",
    "        continue\n",
    "    \n",
    "    if int(user_input) <= 30:\n",
    "        break\n",
    "    elif int(user_input) > 30:\n",
    "        print('你確定你會依照這餐單超過一個月嗎? 輸入一個少於30天的數字會較好...\\n')\n",
    "        continue\n",
    "\n",
    "while True:\n",
    "    if int (user_input) == 1:\n",
    "        result.append(random.choice(Food))\n",
    "        break\n",
    "    if len(result) < int(user_input):\n",
    "        result.append(random.choice(Food))\n",
    "    else:\n",
    "        i = 0\n",
    "        while i <= len(result)-1:\n",
    "            if result[i] == 0:\n",
    "                i += 1\n",
    "                continue\n",
    "            \n",
    "            if result[i] == result[i-1]:\n",
    "                result[i] = random.choice(Food)\n",
    "            else:\n",
    "                i += 1\n",
    "        break\n",
    "counter = 1        \n",
    "for i in result:\n",
    "    print('第' + str(counter) + '天' + ': ' + str(i))\n",
    "    counter += 1\n"
   ]
  },
  {
   "cell_type": "code",
   "execution_count": null,
   "metadata": {
    "collapsed": true
   },
   "outputs": [],
   "source": []
  }
 ],
 "metadata": {
  "kernelspec": {
   "display_name": "Python 3",
   "language": "python",
   "name": "python3"
  },
  "language_info": {
   "codemirror_mode": {
    "name": "ipython",
    "version": 3
   },
   "file_extension": ".py",
   "mimetype": "text/x-python",
   "name": "python",
   "nbconvert_exporter": "python",
   "pygments_lexer": "ipython3",
   "version": "3.4.3"
  }
 },
 "nbformat": 4,
 "nbformat_minor": 0
}
