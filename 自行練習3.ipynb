{
 "cells": [
  {
   "cell_type": "code",
   "execution_count": 31,
   "metadata": {
    "collapsed": false
   },
   "outputs": [
    {
     "data": {
      "text/plain": [
       "7.0710678118654755"
      ]
     },
     "execution_count": 31,
     "metadata": {},
     "output_type": "execute_result"
    }
   ],
   "source": [
    "from math import sqrt\n",
    "def distance_from_zero(anything):\n",
    "    if type(anything)== int or type(anything)==float:\n",
    "        if anything >=0:\n",
    "            return   sqrt(anything)\n",
    "        else:\n",
    "            return 'it can\\'t be sqrt'\n",
    "    else:\n",
    "        return \"Nope\"\n",
    "distance_from_zero(50)"
   ]
  },
  {
   "cell_type": "code",
   "execution_count": 1,
   "metadata": {
    "collapsed": false
   },
   "outputs": [
    {
     "name": "stdout",
     "output_type": "stream",
     "text": [
      "anything you want to typearnold\n",
      "Hello World\n",
      "arnold\n",
      "Hello World\n",
      "arnold\n",
      "Hello World\n",
      "arnold\n",
      "Hello World\n",
      "arnold\n",
      "Hello World\n",
      "arnold\n",
      "Hello World\n",
      "arnold\n",
      "Hello World\n",
      "arnold\n",
      "Hello World\n",
      "arnold\n",
      "Hello World\n",
      "arnold\n"
     ]
    }
   ],
   "source": [
    "a = input(\"anything you want to type\")\n",
    "for i in range(1,10):\n",
    "    print(\"Hello World\")\n",
    "    print(a)"
   ]
  }
 ],
 "metadata": {
  "kernelspec": {
   "display_name": "Python 3",
   "language": "python",
   "name": "python3"
  },
  "language_info": {
   "codemirror_mode": {
    "name": "ipython",
    "version": 3
   },
   "file_extension": ".py",
   "mimetype": "text/x-python",
   "name": "python",
   "nbconvert_exporter": "python",
   "pygments_lexer": "ipython3",
   "version": "3.4.3"
  }
 },
 "nbformat": 4,
 "nbformat_minor": 0
}
