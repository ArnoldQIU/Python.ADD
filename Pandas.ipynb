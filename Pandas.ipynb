{
 "cells": [
  {
   "cell_type": "code",
   "execution_count": 12,
   "metadata": {
    "collapsed": false
   },
   "outputs": [
    {
     "data": {
      "text/plain": [
       "0    1\n",
       "1    2\n",
       "2    3\n",
       "3    4\n",
       "4    5\n",
       "dtype: int64"
      ]
     },
     "execution_count": 12,
     "metadata": {},
     "output_type": "execute_result"
    }
   ],
   "source": [
    "import pandas as pd\n",
    "series=pd.Series([1,2,3,4,5])\n",
    "series"
   ]
  },
  {
   "cell_type": "code",
   "execution_count": 3,
   "metadata": {
    "collapsed": true
   },
   "outputs": [],
   "source": [
    "grade=pd.Series([55,40,30,10,99])\n"
   ]
  },
  {
   "cell_type": "code",
   "execution_count": 4,
   "metadata": {
    "collapsed": false
   },
   "outputs": [
    {
     "data": {
      "text/plain": [
       "0    False\n",
       "1    False\n",
       "2    False\n",
       "3    False\n",
       "4     True\n",
       "dtype: bool"
      ]
     },
     "execution_count": 4,
     "metadata": {},
     "output_type": "execute_result"
    }
   ],
   "source": [
    "grade>60"
   ]
  },
  {
   "cell_type": "code",
   "execution_count": 5,
   "metadata": {
    "collapsed": false
   },
   "outputs": [
    {
     "name": "stdout",
     "output_type": "stream",
     "text": [
      "0     65\n",
      "1     50\n",
      "2     40\n",
      "3     20\n",
      "4    109\n",
      "dtype: int64\n"
     ]
    }
   ],
   "source": [
    "print(grade+10)"
   ]
  },
  {
   "cell_type": "code",
   "execution_count": 6,
   "metadata": {
    "collapsed": true
   },
   "outputs": [],
   "source": [
    "import numpy as np\n",
    "import pandas as pd\n",
    "\n",
    "sample_series = pd.Series(np.random.sample(1000000))\n",
    "sample_list = list(np.random.sample(1000000))"
   ]
  },
  {
   "cell_type": "code",
   "execution_count": 8,
   "metadata": {
    "collapsed": false
   },
   "outputs": [
    {
     "data": {
      "text/plain": [
       "0         1.177925\n",
       "1         1.649392\n",
       "2         0.602069\n",
       "3         0.406263\n",
       "4         1.747041\n",
       "5         0.888778\n",
       "6         0.747537\n",
       "7         0.294525\n",
       "8         1.579380\n",
       "9         1.791750\n",
       "10        0.766020\n",
       "11        1.440792\n",
       "12        1.229956\n",
       "13        1.114850\n",
       "14        1.018220\n",
       "15        0.644697\n",
       "16        0.756129\n",
       "17        1.397369\n",
       "18        1.448295\n",
       "19        1.790732\n",
       "20        0.310730\n",
       "21        0.847979\n",
       "22        1.827052\n",
       "23        1.865916\n",
       "24        0.422580\n",
       "25        0.213731\n",
       "26        0.942669\n",
       "27        1.208707\n",
       "28        0.819301\n",
       "29        0.600659\n",
       "            ...   \n",
       "999970    1.711212\n",
       "999971    0.663530\n",
       "999972    0.111598\n",
       "999973    0.766406\n",
       "999974    0.469896\n",
       "999975    1.740830\n",
       "999976    1.688756\n",
       "999977    1.862879\n",
       "999978    1.681760\n",
       "999979    0.639822\n",
       "999980    0.926339\n",
       "999981    0.749197\n",
       "999982    1.092703\n",
       "999983    0.928419\n",
       "999984    0.656478\n",
       "999985    1.333359\n",
       "999986    1.828673\n",
       "999987    0.114035\n",
       "999988    1.210585\n",
       "999989    1.611675\n",
       "999990    0.357980\n",
       "999991    0.402567\n",
       "999992    0.848655\n",
       "999993    1.605722\n",
       "999994    1.339490\n",
       "999995    0.642310\n",
       "999996    0.491283\n",
       "999997    1.489510\n",
       "999998    1.377242\n",
       "999999    0.175709\n",
       "dtype: float64"
      ]
     },
     "execution_count": 8,
     "metadata": {},
     "output_type": "execute_result"
    }
   ],
   "source": [
    " sample_series+sample_series"
   ]
  },
  {
   "cell_type": "code",
   "execution_count": 24,
   "metadata": {
    "collapsed": false
   },
   "outputs": [
    {
     "data": {
      "text/plain": [
       "31637.692800000001"
      ]
     },
     "execution_count": 24,
     "metadata": {},
     "output_type": "execute_result"
    }
   ],
   "source": [
    "import pandas as pd\n",
    "macAirPrice = pd.Series([31900, 7488, 112800, 999, 1549], index=['台灣', '香港', '日本', '美國', '澳洲'])\n",
    "exchangeRate = pd.Series([32.45500, 4.08000, 23.28000, 0.25970, 1], index=['美國', '香港', '澳洲', '日本', '台灣'])\n",
    "MacairInTWD=macAirPrice * exchangeRate\n",
    "MacairInTWD['日本']*1.08"
   ]
  },
  {
   "cell_type": "code",
   "execution_count": null,
   "metadata": {
    "collapsed": true
   },
   "outputs": [],
   "source": []
  }
 ],
 "metadata": {
  "kernelspec": {
   "display_name": "Python 3",
   "language": "python",
   "name": "python3"
  },
  "language_info": {
   "codemirror_mode": {
    "name": "ipython",
    "version": 3
   },
   "file_extension": ".py",
   "mimetype": "text/x-python",
   "name": "python",
   "nbconvert_exporter": "python",
   "pygments_lexer": "ipython3",
   "version": "3.4.3"
  }
 },
 "nbformat": 4,
 "nbformat_minor": 0
}
